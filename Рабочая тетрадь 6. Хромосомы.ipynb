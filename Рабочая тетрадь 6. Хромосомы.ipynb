{
 "cells": [
  {
   "cell_type": "markdown",
   "id": "541d9134",
   "metadata": {},
   "source": [
    "### Пример 1.1.1\n",
    "#### Пусть дана начальная популяция из четырех хромосом с двумя генами x и y. Показатель качества хромосомы оценивается функцией Z. При равном качестве хромосом предпочтение отдается хромосоме с большим номером. На каждом этапе хромосома a с высшим качеством порождает четыре новых хромосомы 𝑏𝑏1, 𝑐𝑐1, 𝑏𝑏2, 𝑐𝑐2, обмениваясь генами с двумя хромосомами b и c более низкого качества по указанной схеме:(схема)\n",
    "#### Последняя хромоcома (с низшим качеством) выбывает из популяции. Найти максимальный показатель качества хромосомы в популяции и общее качество популяции после четырех этапов эволюции.\n"
   ]
  },
  {
   "cell_type": "code",
   "execution_count": 1,
   "id": "3730040b",
   "metadata": {},
   "outputs": [],
   "source": [
    "#функция качества хромосомы\n",
    "def qZ(x, y):\n",
    "    return (x - 3 * y + 1) / (3 * x ** 2 + 3 * y ** 2 + 1)"
   ]
  },
  {
   "cell_type": "code",
   "execution_count": 2,
   "id": "d26f8bba",
   "metadata": {},
   "outputs": [],
   "source": [
    "#сумма качества хромосом\n",
    "def qSumZ(Z):\n",
    "    return sum(Z)"
   ]
  },
  {
   "cell_type": "code",
   "execution_count": 3,
   "id": "3dcbe0d1",
   "metadata": {},
   "outputs": [],
   "source": [
    "#Запрошраммируем схему обмена хромосами\n",
    "def exchangeScheme(oldX, oldY, sortedId):\n",
    "    X = [0 for i in range(4)]\n",
    "    Y = [0 for i in range(4)]\n",
    "    \n",
    "    X[2] = oldX[sortedId[2]]\n",
    "    X[3] = oldX[sortedId[2]]\n",
    "    \n",
    "    X[0] = oldX[sortedId[0]]\n",
    "    \n",
    "    X[1] = oldX[sortedId[1]]\n",
    "    \n",
    "    Y[0] = oldY[sortedId[2]]\n",
    "    Y[1] = oldY[sortedId[2]]\n",
    "    \n",
    "    Y[2] = oldY[sortedId[0]]\n",
    "    \n",
    "    Y[3] = oldY[sortedId[1]]\n",
    "    return X, Y"
   ]
  },
  {
   "cell_type": "code",
   "execution_count": 4,
   "id": "c2155ba1",
   "metadata": {},
   "outputs": [],
   "source": [
    "#Отсортируем массив качества наших потомков и выделим полученные индексы:\n",
    "def sorting(Z):\n",
    "    sortedId = sorted(range(len(Z)), key = lambda k: Z[k])\n",
    "    \n",
    "    return sortedId"
   ]
  },
  {
   "cell_type": "code",
   "execution_count": 5,
   "id": "ab44372c",
   "metadata": {},
   "outputs": [],
   "source": [
    "#Напишем функцию для шага эволюции:\n",
    "def evoStep(X, Y, Z):\n",
    "    _, minId = min((value, id) for (id, value) in enumerate(Z))\n",
    "    X = X[:]\n",
    "    Y = Y[:]\n",
    "    Z = Z[:]\n",
    "    \n",
    "    X.pop(minId)\n",
    "    Y.pop(minId)\n",
    "    Z.pop(minId)\n",
    "    \n",
    "    return X, Y, Z"
   ]
  },
  {
   "cell_type": "code",
   "execution_count": 6,
   "id": "da76289a",
   "metadata": {},
   "outputs": [],
   "source": [
    "#Произведем эволюционные изменения, в соответствие с задачей(4 шага):\n",
    "\n",
    "#шаги эволюции (конечная функция), по умолчанию 4 шага\n",
    "def evoSteps(X, Y, stepsNum = 4):\n",
    "    results = []\n",
    "    \n",
    "    for i in range(4):\n",
    "        arrZ = [qZ(x, Y[i]) for i, x in enumerate(X)]\n",
    "        \n",
    "        X, Y, Z = evoStep(X, Y, arrZ)\n",
    "        \n",
    "        X, Y = exchangeScheme(X, Y, sorting(Z))\n",
    "        \n",
    "        results.append([X, Y, qSumZ(arrZ), arrZ])\n",
    "        \n",
    "    return X, Y, results"
   ]
  },
  {
   "cell_type": "code",
   "execution_count": 7,
   "id": "e1514fd3",
   "metadata": {},
   "outputs": [],
   "source": [
    "#Объявление массивов хромосом\n",
    "X = [-2, -1, 0, 1]\n",
    "Y = [-2, -1, 0, 1]"
   ]
  },
  {
   "cell_type": "code",
   "execution_count": 8,
   "id": "67d4e076",
   "metadata": {},
   "outputs": [],
   "source": [
    "# Реализация алгоритма\n",
    "results = evoSteps(X, Y)"
   ]
  },
  {
   "cell_type": "code",
   "execution_count": 9,
   "id": "bff58484",
   "metadata": {},
   "outputs": [
    {
     "name": "stdout",
     "output_type": "stream",
     "text": [
      "max_1_step: 1.4857142857142858\n",
      "max_2_step: 1.4615384615384615\n",
      "max_3_step: 2.967032967032967\n",
      "max_4_step: 3.5384615384615383\n",
      "max Z:     1.0\n"
     ]
    }
   ],
   "source": [
    "#Теперь, выведем полученные значения для показателя качества хромосомы в популяции и общее качество популяции после четырех этапов эволюции.\n",
    "#Для этого, воспользуемся циклом по значениям переменной results.\n",
    "for i in range(len(results[2])):\n",
    "    print(f'max_{i + 1}_step: {results[2][i][2]}')\n",
    "    \n",
    "qualityArrZ = []\n",
    "for i in range(len(results[2])):\n",
    "    qualityArrZ += results[2][i][3]\n",
    "    \n",
    "print(f'max Z:     {max(qualityArrZ)}')"
   ]
  },
  {
   "cell_type": "markdown",
   "id": "5dd33ec6",
   "metadata": {},
   "source": [
    "### Задание\n",
    "#### Выполните по вариантам соответственно реализацию генетического алгоритма в соответствии с приложенными начальными данными. (8 вар)"
   ]
  },
  {
   "cell_type": "code",
   "execution_count": 11,
   "id": "e1494aa6",
   "metadata": {},
   "outputs": [],
   "source": [
    "#функция качества хромосомы\n",
    "def qZ(x, y):\n",
    "    return (x - 3 * y - 3) / (x ** 2 + 2 * y ** 2 + 1)"
   ]
  },
  {
   "cell_type": "code",
   "execution_count": 12,
   "id": "59be8ded",
   "metadata": {},
   "outputs": [],
   "source": [
    "#сумма качества хромосом\n",
    "def qSumZ(Z):\n",
    "    return sum(Z)"
   ]
  },
  {
   "cell_type": "code",
   "execution_count": 13,
   "id": "18b73ceb",
   "metadata": {},
   "outputs": [],
   "source": [
    "#Запрошраммируем схему обмена хромосами\n",
    "def exchangeScheme(oldX, oldY, sortedId):\n",
    "    X = [0 for i in range(4)]\n",
    "    Y = [0 for i in range(4)]\n",
    "    \n",
    "    X[2] = oldX[sortedId[2]]\n",
    "    X[3] = oldX[sortedId[2]]\n",
    "    \n",
    "    X[0] = oldX[sortedId[0]]\n",
    "    \n",
    "    X[1] = oldX[sortedId[1]]\n",
    "    \n",
    "    Y[0] = oldY[sortedId[2]]\n",
    "    Y[1] = oldY[sortedId[2]]\n",
    "    \n",
    "    Y[2] = oldY[sortedId[0]]\n",
    "    \n",
    "    Y[3] = oldY[sortedId[1]]\n",
    "    return X, Y"
   ]
  },
  {
   "cell_type": "code",
   "execution_count": 14,
   "id": "26ef9311",
   "metadata": {},
   "outputs": [],
   "source": [
    "#Отсортируем массив качества наших потомков и выделим полученные индексы:\n",
    "def sorting(Z):\n",
    "    sortedId = sorted(range(len(Z)), key = lambda k: Z[k])\n",
    "    \n",
    "    return sortedId"
   ]
  },
  {
   "cell_type": "code",
   "execution_count": 15,
   "id": "ee2bf5f0",
   "metadata": {},
   "outputs": [],
   "source": [
    "#Напишем функцию для шага эволюции:\n",
    "def evoStep(X, Y, Z):\n",
    "    _, minId = min((value, id) for (id, value) in enumerate(Z))\n",
    "    X = X[:]\n",
    "    Y = Y[:]\n",
    "    Z = Z[:]\n",
    "    \n",
    "    X.pop(minId)\n",
    "    Y.pop(minId)\n",
    "    Z.pop(minId)\n",
    "    \n",
    "    return X, Y, Z"
   ]
  },
  {
   "cell_type": "code",
   "execution_count": 16,
   "id": "a3304fb0",
   "metadata": {},
   "outputs": [],
   "source": [
    "#Произведем эволюционные изменения, в соответствие с задачей(4 шага):\n",
    "\n",
    "#шаги эволюции (конечная функция), по умолчанию 4 шага\n",
    "def evoSteps(X, Y, stepsNum = 4):\n",
    "    results = []\n",
    "    \n",
    "    for i in range(4):\n",
    "        arrZ = [qZ(x, Y[i]) for i, x in enumerate(X)]\n",
    "        \n",
    "        X, Y, Z = evoStep(X, Y, arrZ)\n",
    "        \n",
    "        X, Y = exchangeScheme(X, Y, sorting(Z))\n",
    "        \n",
    "        results.append([X, Y, qSumZ(arrZ), arrZ])\n",
    "        \n",
    "    return X, Y, results"
   ]
  },
  {
   "cell_type": "code",
   "execution_count": 17,
   "id": "55340099",
   "metadata": {},
   "outputs": [],
   "source": [
    "#Объявление массивов хромосом\n",
    "X = [-5, -3, -2, -1]\n",
    "Y = [-1, -2, 0, 1]"
   ]
  },
  {
   "cell_type": "code",
   "execution_count": 18,
   "id": "b9965bf1",
   "metadata": {},
   "outputs": [],
   "source": [
    "# Реализация алгоритма\n",
    "results = evoSteps(X, Y)"
   ]
  },
  {
   "cell_type": "code",
   "execution_count": 19,
   "id": "0ea6d4df",
   "metadata": {},
   "outputs": [
    {
     "name": "stdout",
     "output_type": "stream",
     "text": [
      "max_1_step: -2.928571428571429\n",
      "max_2_step: -0.8319004524886877\n",
      "max_3_step: -0.2676147382029735\n",
      "max_4_step: 0.09502262443438915\n",
      "max Z:     0.07692307692307693\n"
     ]
    }
   ],
   "source": [
    "#Теперь, выведем полученные значения для показателя качества хромосомы в популяции и общее качество популяции после четырех этапов эволюции.\n",
    "#Для этого, воспользуемся циклом по значениям переменной results.\n",
    "for i in range(len(results[2])):\n",
    "    print(f'max_{i + 1}_step: {results[2][i][2]}')\n",
    "    \n",
    "qualityArrZ = []\n",
    "for i in range(len(results[2])):\n",
    "    qualityArrZ += results[2][i][3]\n",
    "    \n",
    "print(f'max Z:     {max(qualityArrZ)}')"
   ]
  },
  {
   "cell_type": "markdown",
   "id": "9d7d869f",
   "metadata": {},
   "source": [
    "### Пример 1.2.1\n",
    "#### Итак, начальные условия задачи представляют собой следующий граф с расстояниями между ребрами:"
   ]
  },
  {
   "cell_type": "code",
   "execution_count": 47,
   "id": "82dc4f4e",
   "metadata": {},
   "outputs": [],
   "source": [
    "#импорт библиотеки:\n",
    "import networkx as nx\n",
    "from math import e"
   ]
  },
  {
   "cell_type": "code",
   "execution_count": 48,
   "id": "9ed3cad3",
   "metadata": {},
   "outputs": [],
   "source": [
    "#Далее, опишем массив длин ребер, последовательности прохождение вершин на маршруте и их замены, значения P, а также начальную температуру:\n",
    "distances = [(1, 2, 20),\n",
    "            (1, 3, 40),\n",
    "            (1, 4, 42),\n",
    "            (1, 5, 33),\n",
    "            (1, 6, 21),\n",
    "            (2, 3, 26),\n",
    "            (2, 4, 38),\n",
    "            (2, 5, 42),\n",
    "            (2, 6, 17),\n",
    "            (3, 4, 22),\n",
    "            (3, 5, 43),\n",
    "            (3, 6, 21),\n",
    "            (4, 5, 27),\n",
    "            (4, 6, 22),\n",
    "            (5, 6, 26)] #длины ребер\n",
    "\n",
    "V = [1, 4, 5, 2, 6, 3, 1]  #последовательность прохождения маршрута\n",
    "Z = [(3, 4),\n",
    "     (4, 6),\n",
    "     (5, 2),\n",
    "     (6, 2)] #последовательность замен вершин\n",
    "P = [49, 54, 43, 54] #случайные числа, выпавшие в процессе счёта\n",
    "\n",
    "T = 100 #начальная температура"
   ]
  },
  {
   "cell_type": "code",
   "execution_count": 49,
   "id": "1593fb6e",
   "metadata": {},
   "outputs": [],
   "source": [
    "#Запишем функции вероятности и изменения температуры:\n",
    "\n",
    "#функция вероятности\n",
    "def probability(delta, T):\n",
    "    return 100 * e ** (-delta / T)\n",
    "\n",
    "#функция изменения температуры\n",
    "def reductTemp(prevT):\n",
    "    nextT = 0.5 * prevT\n",
    "    \n",
    "    return nextT"
   ]
  },
  {
   "cell_type": "code",
   "execution_count": 50,
   "id": "27515d36",
   "metadata": {},
   "outputs": [
    {
     "data": {
      "image/png": "[encoded data removed]",
      "text/plain": [
       "<Figure size 432x288 with 1 Axes>"
      ]
     },
     "metadata": {},
     "output_type": "display_data"
    }
   ],
   "source": [
    "#Построим граф по заданным вершинам, как в начальном условии:\n",
    "\n",
    "graph = nx.Graph() #создание пустого графа\n",
    "graph.add_weighted_edges_from(distances) #добавление весов рёбер\n",
    "\n",
    "#отрисовка графа с заданными вершинами\n",
    "nx.draw_kamada_kawai(graph, node_color = '#fb7258', node_size = 2000, with_labels = True)"
   ]
  },
  {
   "cell_type": "code",
   "execution_count": 51,
   "id": "9c37cf27",
   "metadata": {},
   "outputs": [],
   "source": [
    "#Теперь, напишем необходимые, согласно алгоритму выше, функции для работы метода имитации отжига. \n",
    "#Вычислим длину ребра:\n",
    "\n",
    "def edgeLength(i, j, distances, roundTrip = True):\n",
    "    if roundTrip:\n",
    "        return max([(item[2] if (item[0] == i and item[1] == j) or (item[1] == i and item[0] == j) else -1) \n",
    "                    for item in distances])\n",
    "    else:\n",
    "        return max([(item[2] if (item[0] == i and item[1] == j) else -1) for item in distances])"
   ]
  },
  {
   "cell_type": "code",
   "execution_count": 52,
   "id": "7a1a952b",
   "metadata": {},
   "outputs": [],
   "source": [
    "#Вычислим длину маршрута:\n",
    "\n",
    "def routeLength(V, distances):\n",
    "    edges = []\n",
    "    \n",
    "    for i in range(len(V) - 1):\n",
    "        edges.append(edgeLength(V[i], V[i + 1], distances))\n",
    "        \n",
    "    return sum(edges)"
   ]
  },
  {
   "cell_type": "code",
   "execution_count": 53,
   "id": "6a8a9c52",
   "metadata": {},
   "outputs": [],
   "source": [
    "#Запишем функцию для однократной перестановки в пути:\n",
    "\n",
    "#одна перестановка в пути\n",
    "def routeOneReplacement(arrV, Z, replacementByName = True):\n",
    "    decrement = 1 if replacementByName else 0\n",
    "    \n",
    "    arrV[Z[0] - decrement], arrV[Z[1] - decrement] = arrV[Z[1] - decrement], arrV[Z[0] - decrement]\n",
    "    \n",
    "    return arrV"
   ]
  },
  {
   "cell_type": "code",
   "execution_count": 54,
   "id": "e98dfe45",
   "metadata": {},
   "outputs": [],
   "source": [
    "#А теперь функцию, для реализации непосредственно самой перестановки:\n",
    "\n",
    "#перестановки в пути\n",
    "\n",
    "def routeReplacement(V, Z):\n",
    "    for z in Z:\n",
    "        V = routeOneRaplacement(V, z)\n",
    "    return V"
   ]
  },
  {
   "cell_type": "code",
   "execution_count": 55,
   "id": "beb4685c",
   "metadata": {},
   "outputs": [],
   "source": [
    "#Теперь, опишем алгоритм выбора подходящего пути методом отжига:\n",
    "\n",
    "#выбор нужного пути методом отжига\n",
    "def chooseRoute(distances, V, Z, T, P):\n",
    "    sumLength = routeLength(V, distances) #нахождение длины пути\n",
    "    arrSum = [sumLength] #массив сумм длин\n",
    "    \n",
    "    #циклы методом отжига\n",
    "    for i in range(len(Z)):\n",
    "        newV = routeOneReplacement(V[:], Z[i]) #новый маршрут после перестановки\n",
    "        newS = routeLength(newV, distances) #длина нового маршрута\n",
    "        arrSum.append(newS)\n",
    "        deltaS = newS - sumLength #разница между длиной нового и старого маршрутов\n",
    "        \n",
    "        #в случае, если разница между длинами больше 0, то вычисляем вероятность\n",
    "        if deltaS > 0:\n",
    "            p = probability(deltaS, T) #подсчет вероятности\n",
    "            \n",
    "            #если заданная вероятность попадает в интервал от 0 до p, то новый маршрут выбирается\n",
    "            if p > P[i]:\n",
    "                V = newV\n",
    "                sumLength = newS\n",
    "        else:\n",
    "            V = newV\n",
    "            sumLength = newS\n",
    "        \n",
    "        T = reductTemp(T) #вычисление температуры\n",
    "    \n",
    "    return V, arrSum"
   ]
  },
  {
   "cell_type": "code",
   "execution_count": 56,
   "id": "1fb4354b",
   "metadata": {},
   "outputs": [],
   "source": [
    "#отрисовка графа по заданному маршруту\n",
    "def drawRouteGraph(distances, bestRoute):\n",
    "    newDistances = []\n",
    "    # прохождение по вектору\n",
    "    for i in range(len(bestRoute) - 1):\n",
    "        for distance in distances:\n",
    "            if distance[0] == bestRoute[i] and distance[1] == bestRoute[i + 1] or distance[1] == bestRoute[i] and distance[0] == bestRoute[i + 1]:\n",
    "                newDistances.append(distance)\n",
    "    \n",
    "    graph = nx.Graph() #создание пустого графа\n",
    "    \n",
    "    \n",
    "    graph.add_weighted_edges_from(newDistances) #добавление весов рёбер\n",
    "    #отрисовка графа с заданными вершинами\n",
    "    nx.draw_kamada_kawai(graph, node_color = '#e1eb26', node_size = 2000, with_labels = True)"
   ]
  },
  {
   "cell_type": "code",
   "execution_count": 57,
   "id": "1a104ba0",
   "metadata": {},
   "outputs": [
    {
     "name": "stdout",
     "output_type": "stream",
     "text": [
      "Лучший выбранный маршрут: [1, 6, 2, 3, 4, 5, 1]\n",
      "Длина лучшего выбранного маршрута: 146\n",
      "Длины всех рассмотренных маршрутов: [189, 209, 186, 146, 166]\n"
     ]
    },
    {
     "data": {
      "image/png": "[encoded data removed]",
      "text/plain": [
       "<Figure size 432x288 with 1 Axes>"
      ]
     },
     "metadata": {},
     "output_type": "display_data"
    }
   ],
   "source": [
    "#И, наконец, рассчитаем наилучший маршрут и его длину:\n",
    "bestRoute, arrLength = chooseRoute(distances, V, Z, T, P)\n",
    "\n",
    "print(f'Лучший выбранный маршрут: {bestRoute}')\n",
    "print(f'Длина лучшего выбранного маршрута: {routeLength(bestRoute, distances)}')\n",
    "print(f'Длины всех рассмотренных маршрутов: {arrLength}')\n",
    "\n",
    "drawRouteGraph(distances, bestRoute) #отрисовка лучшего маршрута"
   ]
  },
  {
   "cell_type": "markdown",
   "id": "51550e94",
   "metadata": {},
   "source": [
    "### Задание\n",
    "#### Найти длину гамильтонова цикла S4 в полном графе K6 после четырех циклов решения задачи методом отжига по вариантам ниже.\n",
    "#### вар 8"
   ]
  },
  {
   "cell_type": "code",
   "execution_count": 1,
   "id": "fe26ad7a",
   "metadata": {},
   "outputs": [],
   "source": [
    "import networkx as nx\n",
    "from math import e"
   ]
  },
  {
   "cell_type": "code",
   "execution_count": 2,
   "id": "b248dc5f",
   "metadata": {},
   "outputs": [],
   "source": [
    "distances = [(1, 2, 19), \n",
    "             (1, 3, 39), \n",
    "             (1, 4, 35), \n",
    "             (1, 5, 26), \n",
    "             (1, 6, 18), \n",
    "             (2, 3, 26), \n",
    "             (2, 4, 33), \n",
    "             (2, 5, 37), \n",
    "             (2, 6, 14), \n",
    "             (3, 4, 22), \n",
    "             (3, 5, 41), \n",
    "             (3, 6, 21), \n",
    "             (4, 5, 22), \n",
    "             (4, 6, 19), \n",
    "             (5, 6, 24)]\n",
    "\n",
    "V = [1, 4, 2, 3, 5, 6, 1]\n",
    "Z = [(5, 2), \n",
    "     (4, 5), \n",
    "     (2, 3), \n",
    "     (3, 4)]\n",
    "P = [88, 54, 24, 64]\n",
    "\n",
    "T = 100"
   ]
  },
  {
   "cell_type": "code",
   "execution_count": 3,
   "id": "1246cdbc",
   "metadata": {},
   "outputs": [],
   "source": [
    "def probability(delta, T):\n",
    "    return 100 * e ** (-delta / T)\n",
    "\n",
    "def reductTemp(prevT):\n",
    "    nextT = 0.5 * prevT\n",
    "    \n",
    "    return nextT"
   ]
  },
  {
   "cell_type": "code",
   "execution_count": 4,
   "id": "3189d9b2",
   "metadata": {},
   "outputs": [
    {
     "data": {
      "image/png": "[encoded data removed]",
      "text/plain": [
       "<Figure size 432x288 with 1 Axes>"
      ]
     },
     "metadata": {},
     "output_type": "display_data"
    }
   ],
   "source": [
    "graph = nx.Graph() \n",
    "graph.add_weighted_edges_from(distances) \n",
    "\n",
    "nx.draw_kamada_kawai(graph, node_color = '#fb7258', node_size = 2000, with_labels = True)"
   ]
  },
  {
   "cell_type": "code",
   "execution_count": 5,
   "id": "7e0b502c",
   "metadata": {},
   "outputs": [],
   "source": [
    "def edgeLength(i, j, distances, roundTrip = True):\n",
    "    if roundTrip:\n",
    "        return max([(item[2] if (item[0] == i and item[1] == j) or (item[1] == i and item[0] == j) else -1) \n",
    "                    for item in distances])\n",
    "    else:\n",
    "        return max([(item[2] if (item[0] == i and item[1] == j) else -1) for item in distances])"
   ]
  },
  {
   "cell_type": "code",
   "execution_count": 6,
   "id": "446f58bd",
   "metadata": {},
   "outputs": [],
   "source": [
    "def routeLength(V, distances):\n",
    "    edges = []\n",
    "    \n",
    "    for i in range(len(V) - 1):\n",
    "        edges.append(edgeLength(V[i], V[i + 1], distances))\n",
    "        \n",
    "    return sum(edges)"
   ]
  },
  {
   "cell_type": "code",
   "execution_count": 7,
   "id": "702da153",
   "metadata": {},
   "outputs": [],
   "source": [
    "def routeOneReplacement(arrV, Z, replacementByName = True):\n",
    "    decrement = 1 if replacementByName else 0\n",
    "    \n",
    "    arrV[Z[0] - decrement], arrV[Z[1] - decrement] = arrV[Z[1] - decrement], arrV[Z[0] - decrement]\n",
    "    \n",
    "    return arrV"
   ]
  },
  {
   "cell_type": "code",
   "execution_count": 8,
   "id": "eff3cf6a",
   "metadata": {},
   "outputs": [],
   "source": [
    "def routeOneReplacement(arrV, Z, replacementByName = True):\n",
    "    decrement = 1 if replacementByName else 0\n",
    "    \n",
    "    arrV[Z[0] - decrement], arrV[Z[1] - decrement] = arrV[Z[1] - decrement], arrV[Z[0] - decrement]\n",
    "    \n",
    "    return arrV"
   ]
  },
  {
   "cell_type": "code",
   "execution_count": 9,
   "id": "c9aaaafe",
   "metadata": {},
   "outputs": [],
   "source": [
    "def routeReplacement(V, Z):\n",
    "    for z in Z:\n",
    "        V = routeOneRaplacement(V, z)\n",
    "    return V"
   ]
  },
  {
   "cell_type": "code",
   "execution_count": 10,
   "id": "5e9b7756",
   "metadata": {},
   "outputs": [],
   "source": [
    "def chooseRoute(distances, V, Z, T, P):\n",
    "    sumLength = routeLength(V, distances) \n",
    "    arrSum = [sumLength] \n",
    "    \n",
    "    for i in range(len(Z)):\n",
    "        newV = routeOneReplacement(V[:], Z[i]) \n",
    "        newS = routeLength(newV, distances) \n",
    "        arrSum.append(newS)\n",
    "        deltaS = newS - sumLength \n",
    "        \n",
    "        if deltaS > 0:\n",
    "            p = probability(deltaS, T) \n",
    "            \n",
    "            if p > P[i]:\n",
    "                V = newV\n",
    "                sumLength = newS\n",
    "        else:\n",
    "            V = newV\n",
    "            sumLength = newS\n",
    "        \n",
    "        T = reductTemp(T) \n",
    "    \n",
    "    return V, arrSum"
   ]
  },
  {
   "cell_type": "code",
   "execution_count": 11,
   "id": "49997992",
   "metadata": {},
   "outputs": [],
   "source": [
    "def drawRouteGraph(distances, bestRoute):\n",
    "    newDistances = []\n",
    "\n",
    "    for i in range(len(bestRoute) - 1):\n",
    "        for distance in distances:\n",
    "            if distance[0] == bestRoute[i] and distance[1] == bestRoute[i + 1] or distance[1] == bestRoute[i] and distance[0] == bestRoute[i + 1]:\n",
    "                newDistances.append(distance)\n",
    "    \n",
    "    graph = nx.Graph() \n",
    "    \n",
    "    \n",
    "    graph.add_weighted_edges_from(newDistances) \n",
    "\n",
    "    nx.draw_kamada_kawai(graph, node_color = '#e1eb26', node_size = 2000, with_labels = True)"
   ]
  },
  {
   "cell_type": "code",
   "execution_count": 12,
   "id": "42d089da",
   "metadata": {},
   "outputs": [
    {
     "name": "stdout",
     "output_type": "stream",
     "text": [
      "Лучший выбранный маршрут: [1, 2, 5, 4, 3, 6, 1]\n",
      "Длина лучшего выбранного маршрута: 139\n",
      "Длины всех рассмотренных маршрутов: [177, 148, 157, 139, 154]\n"
     ]
    },
    {
     "data": {
      "image/png": "[encoded data removed]",
      "text/plain": [
       "<Figure size 432x288 with 1 Axes>"
      ]
     },
     "metadata": {},
     "output_type": "display_data"
    }
   ],
   "source": [
    "bestRoute, arrLength = chooseRoute(distances, V, Z, T, P)\n",
    "\n",
    "print(f'Лучший выбранный маршрут: {bestRoute}')\n",
    "print(f'Длина лучшего выбранного маршрута: {routeLength(bestRoute, distances)}')\n",
    "print(f'Длины всех рассмотренных маршрутов: {arrLength}')\n",
    "\n",
    "drawRouteGraph(distances, bestRoute) "
   ]
  },
  {
   "cell_type": "code",
   "execution_count": null,
   "id": "0c369afa",
   "metadata": {},
   "outputs": [],
   "source": []
  }
 ],
 "metadata": {
  "kernelspec": {
   "display_name": "Python 3",
   "language": "python",
   "name": "python3"
  },
  "language_info": {
   "codemirror_mode": {
    "name": "ipython",
    "version": 3
   },
   "file_extension": ".py",
   "mimetype": "text/x-python",
   "name": "python",
   "nbconvert_exporter": "python",
   "pygments_lexer": "ipython3",
   "version": "3.8.8"
  }
 },
 "nbformat": 4,
 "nbformat_minor": 5
}
